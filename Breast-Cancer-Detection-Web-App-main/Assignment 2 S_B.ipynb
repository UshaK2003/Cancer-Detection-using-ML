{
  "metadata": {
    "language_info": {
      "codemirror_mode": {
        "name": "python",
        "version": 3
      },
      "file_extension": ".py",
      "mimetype": "text/x-python",
      "name": "python",
      "nbconvert_exporter": "python",
      "pygments_lexer": "ipython3",
      "version": "3.8"
    },
    "kernelspec": {
      "name": "python",
      "display_name": "Python (Pyodide)",
      "language": "python"
    }
  },
  "nbformat_minor": 4,
  "nbformat": 4,
  "cells": [
    {
      "cell_type": "code",
      "source": "import pandas as pd\nimport numpy as np",
      "metadata": {
        "trusted": true
      },
      "execution_count": 1,
      "outputs": []
    },
    {
      "cell_type": "code",
      "source": "data=pd.read_csv('titanic.csv')",
      "metadata": {
        "trusted": true
      },
      "execution_count": 2,
      "outputs": []
    },
    {
      "cell_type": "code",
      "source": "print(data.head())\n",
      "metadata": {
        "trusted": true
      },
      "execution_count": 3,
      "outputs": [
        {
          "name": "stdout",
          "text": "   survived  pclass     sex   age  sibsp  parch     fare embarked  class  \\\n0         0       3    male  22.0      1      0   7.2500        S  Third   \n1         1       1  female  38.0      1      0  71.2833        C  First   \n2         1       3  female  26.0      0      0   7.9250        S  Third   \n3         1       1  female  35.0      1      0  53.1000        S  First   \n4         0       3    male  35.0      0      0   8.0500        S  Third   \n\n     who  adult_male deck  embark_town alive  alone  \n0    man        True  NaN  Southampton    no  False  \n1  woman       False    C    Cherbourg   yes  False  \n2  woman       False  NaN  Southampton   yes   True  \n3  woman       False    C  Southampton   yes  False  \n4    man        True  NaN  Southampton    no   True  \n",
          "output_type": "stream"
        }
      ]
    },
    {
      "cell_type": "code",
      "source": "print(data.head())\n",
      "metadata": {
        "trusted": true
      },
      "execution_count": 3,
      "outputs": [
        {
          "name": "stdout",
          "text": "   survived  pclass     sex   age  sibsp  parch     fare embarked  class  \\\n0         0       3    male  22.0      1      0   7.2500        S  Third   \n1         1       1  female  38.0      1      0  71.2833        C  First   \n2         1       3  female  26.0      0      0   7.9250        S  Third   \n3         1       1  female  35.0      1      0  53.1000        S  First   \n4         0       3    male  35.0      0      0   8.0500        S  Third   \n\n     who  adult_male deck  embark_town alive  alone  \n0    man        True  NaN  Southampton    no  False  \n1  woman       False    C    Cherbourg   yes  False  \n2  woman       False  NaN  Southampton   yes   True  \n3  woman       False    C  Southampton   yes  False  \n4    man        True  NaN  Southampton    no   True  \n",
          "output_type": "stream"
        }
      ]
    },
    {
      "cell_type": "code",
      "source": "import pandas as pd\nimport seaborn as sns\nimport matplotlib.pyplot as plt\n\n# Load the dataset\ndata = sns.load_dataset('titanic')\n\n# Univariate Analysis\n# Histogram for age\nplt.hist(data['age'].dropna(), bins=10)  # Drop missing values with dropna()\nplt.xlabel('Age')\nplt.ylabel('Frequency')\nplt.title('Histogram of Age')\nplt.show()\n\n# Bivariate Analysis\n# Scatter plot for age vs. fare\nplt.scatter(data['age'], data['fare'])\nplt.xlabel('Age')\nplt.ylabel('Fare')\nplt.title('Scatter Plot of Age vs. Fare')\nplt.show()\n\n# Multivariate Analysis\n# Pairplot for age, fare, and survived\nsns.pairplot(data[['age', 'fare', 'survived']], hue='survived')\nplt.show()\n",
      "metadata": {
        "trusted": true
      },
      "execution_count": 27,
      "outputs": [
        {
          "ename": "<class 'ModuleNotFoundError'>",
          "evalue": "No module named 'seaborn'",
          "traceback": [
            "\u001b[0;31m---------------------------------------------------------------------------\u001b[0m",
            "\u001b[0;31mModuleNotFoundError\u001b[0m                       Traceback (most recent call last)",
            "Cell \u001b[0;32mIn[27], line 2\u001b[0m\n\u001b[1;32m      1\u001b[0m \u001b[38;5;28;01mimport\u001b[39;00m \u001b[38;5;21;01mpandas\u001b[39;00m \u001b[38;5;28;01mas\u001b[39;00m \u001b[38;5;21;01mpd\u001b[39;00m\n\u001b[0;32m----> 2\u001b[0m \u001b[38;5;28;01mimport\u001b[39;00m \u001b[38;5;21;01mseaborn\u001b[39;00m \u001b[38;5;28;01mas\u001b[39;00m \u001b[38;5;21;01msns\u001b[39;00m\n\u001b[1;32m      3\u001b[0m \u001b[38;5;28;01mimport\u001b[39;00m \u001b[38;5;21;01mmatplotlib\u001b[39;00m\u001b[38;5;21;01m.\u001b[39;00m\u001b[38;5;21;01mpyplot\u001b[39;00m \u001b[38;5;28;01mas\u001b[39;00m \u001b[38;5;21;01mplt\u001b[39;00m\n\u001b[1;32m      5\u001b[0m \u001b[38;5;66;03m# Load the dataset\u001b[39;00m\n",
            "\u001b[0;31mModuleNotFoundError\u001b[0m: No module named 'seaborn'"
          ],
          "output_type": "error"
        }
      ]
    },
    {
      "cell_type": "code",
      "source": "import pandas as pd\n\n# Load the dataset\ndata = pd.read_csv('titanic.csv')\n\n# Perform descriptive statistics\nstatistics = data.describe()\n\n# Display the statistics\nprint(statistics)\n",
      "metadata": {
        "trusted": true
      },
      "execution_count": 9,
      "outputs": [
        {
          "name": "stdout",
          "text": "         survived      pclass         age       sibsp       parch        fare\ncount  891.000000  891.000000  714.000000  891.000000  891.000000  891.000000\nmean     0.383838    2.308642   29.699118    0.523008    0.381594   32.204208\nstd      0.486592    0.836071   14.526497    1.102743    0.806057   49.693429\nmin      0.000000    1.000000    0.420000    0.000000    0.000000    0.000000\n25%      0.000000    2.000000   20.125000    0.000000    0.000000    7.910400\n50%      0.000000    3.000000   28.000000    0.000000    0.000000   14.454200\n75%      1.000000    3.000000   38.000000    1.000000    0.000000   31.000000\nmax      1.000000    3.000000   80.000000    8.000000    6.000000  512.329200\n",
          "output_type": "stream"
        }
      ]
    },
    {
      "cell_type": "code",
      "source": "# Drop rows with any missing values\ndata_without_missing = data.dropna()\n",
      "metadata": {
        "trusted": true
      },
      "execution_count": 10,
      "outputs": []
    },
    {
      "cell_type": "code",
      "source": "# Drop columns with any missing values\ndata_without_missing = data.dropna(axis=1)\n",
      "metadata": {
        "trusted": true
      },
      "execution_count": 11,
      "outputs": []
    },
    {
      "cell_type": "code",
      "source": "import pandas as pd\nimport numpy as np\n\n# Load the dataset\ndata = pd.read_csv('titanic.csv')\n\n# Define a function to detect outliers using z-score\ndef detect_outliers_zscore(data, threshold=3):\n    z_scores = np.abs((data - data.mean()) / data.std())\n    return z_scores > threshold\n\n# Select numeric columns for outlier detection and replacement\nnumeric_columns = ['age', 'fare']\n\n# Identify outliers using z-score\noutliers = detect_outliers_zscore(data[numeric_columns])\n\n# Replace outliers with a specified value (e.g., median)\ndata.loc[outliers.any(axis=1), numeric_columns] = data[numeric_columns].median()\n\n# Print the modified dataset\nprint(data)\n",
      "metadata": {
        "trusted": true
      },
      "execution_count": 13,
      "outputs": [
        {
          "name": "stdout",
          "text": "     survived  pclass     sex   age  sibsp  parch     fare embarked   class  \\\n0           0       3    male  22.0      1      0   7.2500        S   Third   \n1           1       1  female  38.0      1      0  71.2833        C   First   \n2           1       3  female  26.0      0      0   7.9250        S   Third   \n3           1       1  female  35.0      1      0  53.1000        S   First   \n4           0       3    male  35.0      0      0   8.0500        S   Third   \n..        ...     ...     ...   ...    ...    ...      ...      ...     ...   \n886         0       2    male  27.0      0      0  13.0000        S  Second   \n887         1       1  female  19.0      0      0  30.0000        S   First   \n888         0       3  female   NaN      1      2  23.4500        S   Third   \n889         1       1    male  26.0      0      0  30.0000        C   First   \n890         0       3    male  32.0      0      0   7.7500        Q   Third   \n\n       who  adult_male deck  embark_town alive  alone  \n0      man        True  NaN  Southampton    no  False  \n1    woman       False    C    Cherbourg   yes  False  \n2    woman       False  NaN  Southampton   yes   True  \n3    woman       False    C  Southampton   yes  False  \n4      man        True  NaN  Southampton    no   True  \n..     ...         ...  ...          ...   ...    ...  \n886    man        True  NaN  Southampton    no   True  \n887  woman       False    B  Southampton   yes   True  \n888  woman       False  NaN  Southampton    no  False  \n889    man        True    C    Cherbourg   yes   True  \n890    man        True  NaN   Queenstown    no   True  \n\n[891 rows x 15 columns]\n",
          "output_type": "stream"
        }
      ]
    },
    {
      "cell_type": "code",
      "source": "import pandas as pd\nfrom sklearn.preprocessing import LabelEncoder\n\n# Load the dataset\ndata = pd.read_csv('titanic.csv')\n\n# Identify categorical columns\ncategorical_columns = data.select_dtypes(include=['object']).columns\n\n# Perform label encoding\nlabel_encoder = LabelEncoder()\nfor column in categorical_columns:\n    data[column] = label_encoder.fit_transform(data[column])\n\n# Print the modified dataset\nprint(data)\n",
      "metadata": {
        "trusted": true
      },
      "execution_count": 14,
      "outputs": [
        {
          "name": "stdout",
          "text": "     survived  pclass  sex   age  sibsp  parch     fare  embarked  class  who  \\\n0           0       3    1  22.0      1      0   7.2500         2      2    1   \n1           1       1    0  38.0      1      0  71.2833         0      0    2   \n2           1       3    0  26.0      0      0   7.9250         2      2    2   \n3           1       1    0  35.0      1      0  53.1000         2      0    2   \n4           0       3    1  35.0      0      0   8.0500         2      2    1   \n..        ...     ...  ...   ...    ...    ...      ...       ...    ...  ...   \n886         0       2    1  27.0      0      0  13.0000         2      1    1   \n887         1       1    0  19.0      0      0  30.0000         2      0    2   \n888         0       3    0   NaN      1      2  23.4500         2      2    2   \n889         1       1    1  26.0      0      0  30.0000         0      0    1   \n890         0       3    1  32.0      0      0   7.7500         1      2    1   \n\n     adult_male  deck  embark_town  alive  alone  \n0          True     7            2      0  False  \n1         False     2            0      1  False  \n2         False     7            2      1   True  \n3         False     2            2      1  False  \n4          True     7            2      0   True  \n..          ...   ...          ...    ...    ...  \n886        True     7            2      0   True  \n887       False     1            2      1   True  \n888       False     7            2      0  False  \n889        True     2            0      1   True  \n890        True     7            1      0   True  \n\n[891 rows x 15 columns]\n",
          "output_type": "stream"
        }
      ]
    },
    {
      "cell_type": "code",
      "source": "import pandas as pd\n\n# Load the dataset\ndata = pd.read_csv('titanic.csv')\n\n# Display column names\nprint(data.columns)\n\n\n\n",
      "metadata": {
        "trusted": true
      },
      "execution_count": 19,
      "outputs": [
        {
          "name": "stdout",
          "text": "Index(['survived', 'pclass', 'sex', 'age', 'sibsp', 'parch', 'fare',\n       'embarked', 'class', 'who', 'adult_male', 'deck', 'embark_town',\n       'alive', 'alone'],\n      dtype='object')\n",
          "output_type": "stream"
        }
      ]
    },
    {
      "cell_type": "code",
      "source": "# Split into dependent and independent variables\nX = data.drop('sex', axis=1)\ny = data['sex']\n",
      "metadata": {
        "trusted": true
      },
      "execution_count": 22,
      "outputs": []
    },
    {
      "cell_type": "code",
      "source": "import pandas as pd\nfrom sklearn.preprocessing import StandardScaler\n\n# Load the dataset\ndata = pd.read_csv('titanic.csv')\n\n# Exclude non-numeric columns from scaling\nnumeric_columns = data.select_dtypes(include=['int64', 'float64']).columns\nX = data[numeric_columns]\n\n# Initialize the StandardScaler\nscaler = StandardScaler()\n\n# Fit and transform the independent variables\nX_scaled = scaler.fit_transform(X)\n\n# Convert the scaled data back to a DataFrame\nX_scaled_df = pd.DataFrame(X_scaled, columns=X.columns)\n\n# Print the scaled data\nprint(X_scaled_df.head())\n",
      "metadata": {
        "trusted": true
      },
      "execution_count": 24,
      "outputs": [
        {
          "name": "stdout",
          "text": "   survived    pclass       age     sibsp     parch      fare\n0 -0.789272  0.827377 -0.530377  0.432793 -0.473674 -0.502445\n1  1.266990 -1.566107  0.571831  0.432793 -0.473674  0.786845\n2  1.266990  0.827377 -0.254825 -0.474545 -0.473674 -0.488854\n3  1.266990 -1.566107  0.365167  0.432793 -0.473674  0.420730\n4 -0.789272  0.827377  0.365167 -0.474545 -0.473674 -0.486337\n",
          "output_type": "stream"
        }
      ]
    },
    {
      "cell_type": "code",
      "source": "import pandas as pd\nfrom sklearn.model_selection import train_test_split\n\n# Load the dataset\ndata = pd.read_csv('titanic.csv')\n\n# Split into dependent and independent variables\nX = data.drop('sex', axis=1)\ny = data['sex']\n\n# Split the data into training and testing sets\nX_train, X_test, y_train, y_test = train_test_split(X, y, test_size=0.2, random_state=42)\n\n# Print the shapes of the training and testing sets\nprint(\"Training set shape:\", X_train.shape, y_train.shape)\nprint(\"Testing set shape:\", X_test.shape, y_test.shape)\n",
      "metadata": {
        "trusted": true
      },
      "execution_count": 25,
      "outputs": [
        {
          "name": "stdout",
          "text": "Training set shape: (712, 14) (712,)\nTesting set shape: (179, 14) (179,)\n",
          "output_type": "stream"
        }
      ]
    },
    {
      "cell_type": "code",
      "source": "",
      "metadata": {},
      "execution_count": null,
      "outputs": []
    }
  ]
}